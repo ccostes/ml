{
 "cells": [
  {
   "cell_type": "markdown",
   "id": "317b5f6a",
   "metadata": {},
   "source": [
    "# Data Fetching Code\n",
    "\n",
    "Helper code to automate downloading archive files from live ATC (they come in 1-hour recordings) and segmenting them into smaller clips that are good for training by removing silence."
   ]
  },
  {
   "cell_type": "code",
   "execution_count": null,
   "id": "302eed96-623f-4c75-aeac-2d17e42a9d5a",
   "metadata": {},
   "outputs": [],
   "source": [
    "import os\n",
    "import requests\n",
    "from datetime import datetime\n",
    "\n",
    "def download_liveatc_audio(feed, date, time, directory='audio/raw'):\n",
    "    \"\"\"\n",
    "    Download an audio file from LiveATC based on feed, date, and time.\n",
    "\n",
    "    Args:\n",
    "    feed (str): The feed identifier (e.g., 'katl').\n",
    "    date (str or datetime): The date in 'YYYY-mm-dd' format or a datetime object.\n",
    "    time (str): The time in 'HHMM' format, 24-hour clock (e.g., '0000Z' for midnight).\n",
    "    directory (str): The directory to save the audio file to.\n",
    "    \"\"\"\n",
    "    # If the date is a datetime object, format it as a string\n",
    "    if isinstance(date, datetime):\n",
    "        date = date.strftime('%b-%d-%Y').lower()\n",
    "\n",
    "    # Create the URL for the audio file\n",
    "    url = f\"https://archive.liveatc.net/{feed}-{date}-{time}.mp3\"\n",
    "    \n",
    "    # Create the directory if it does not exist\n",
    "    os.makedirs(directory, exist_ok=True)\n",
    "    \n",
    "    # Determine the local filename to save the audio\n",
    "    local_filename = os.path.join(directory, f\"{feed}-{date}-{time}.mp3\")\n",
    "    \n",
    "    # Download the file from `url` and save it locally\n",
    "    try:\n",
    "        with requests.get(url, stream=True) as r:\n",
    "            r.raise_for_status()\n",
    "            with open(local_filename, 'wb') as f:\n",
    "                for chunk in r.iter_content(chunk_size=8192): \n",
    "                    f.write(chunk)\n",
    "        print(f\"Downloaded {local_filename}\")\n",
    "    except requests.exceptions.HTTPError as err:\n",
    "        print(f\"HTTP Error: {err}\")\n",
    "    except Exception as e:\n",
    "        print(f\"Error: {e}\")"
   ]
  },
  {
   "cell_type": "code",
   "execution_count": 8,
   "id": "e23e7623-8dc4-4542-b5d6-0bd015f90d25",
   "metadata": {},
   "outputs": [],
   "source": [
    "import requests\n",
    "# download_liveatc_audio('katl/KATL-Twr-10-28', datetime(2024, 2, 9), '0000Z')\n",
    "url = \"https://archive.liveatc.net/katl/KATL-Twr-10-28-Feb-12-2024-1400Z.mp3\"\n",
    "local_filename = \"audio\\\\raw\\\\KATL-Twr-10-28-Feb-13-2024-1400Z.mp3\"\n",
    "with requests.get(url, stream=True) as r:\n",
    "    r.raise_for_status()\n",
    "    with open(local_filename, 'wb') as f:\n",
    "        for chunk in r.iter_content(chunk_size=8192): \n",
    "            f.write(chunk)"
   ]
  },
  {
   "cell_type": "code",
   "execution_count": 41,
   "id": "3df56469-b8f7-480d-9a99-80e1c2ca78c2",
   "metadata": {},
   "outputs": [
    {
     "data": {
      "text/plain": [
       "237"
      ]
     },
     "execution_count": 41,
     "metadata": {},
     "output_type": "execute_result"
    }
   ],
   "source": [
    "from pydub import AudioSegment, silence\n",
    "\n",
    "def preprocess_and_save_segments(file_path, output_dir, silence_thresh=-40, min_silence_len=500, keep_silence=100, min_segment_len=2000):\n",
    "    \"\"\"\n",
    "    Preprocess raw audio recordings to remove silence and save non-silent segments\n",
    "    that meet the minimum length requirement as separate files.\n",
    "\n",
    "    Args:\n",
    "    file_path (str): Path to the raw audio file.\n",
    "    output_dir (str): Directory where the segments will be saved.\n",
    "    silence_thresh (int): The threshold (in dB) below which a chunk is considered silent.\n",
    "    min_silence_len (int): The minimum length (in ms) for a silence to be considered.\n",
    "    keep_silence (int): Amount of silence (in ms) to leave at the beginning and end of each non-silent chunk.\n",
    "    min_segment_len (int): The minimum length (in ms) for a segment to be saved as a separate file.\n",
    "    \"\"\"\n",
    "\n",
    "    # Load the audio file\n",
    "    # y, sr = librosa.load(file_path, sr=None)\n",
    "\n",
    "    # Convert the NumPy array to a pydub AudioSegment\n",
    "    audio_segment = AudioSegment.from_mp3(file_path)\n",
    "\n",
    "    # Detect non-silent chunks\n",
    "    non_silence_chunks = silence.split_on_silence(\n",
    "        audio_segment,\n",
    "        silence_thresh=silence_thresh,\n",
    "        min_silence_len=min_silence_len,\n",
    "        keep_silence=keep_silence\n",
    "    )\n",
    "\n",
    "    # Save non-silent chunks that meet the minimum length requirement\n",
    "    for i, chunk in enumerate(non_silence_chunks):\n",
    "        if len(chunk) >= min_segment_len:\n",
    "            segment_path = f\"{output_dir}/segment_{i}.wav\"\n",
    "            chunk.export(segment_path, format=\"wav\")\n",
    "    return len(non_silence_chunks)\n",
    "\n",
    "# Example usage\n",
    "# file_path = 'audio\\\\raw\\\\KATL-Gnd-0826-Feb-08-2024-0000Z.mp3'  # Update this to the path of your ATC audio file\n",
    "local_filename = os.path.join('audio','raw','KATL-Twr-All-Feb-16-2024-1430Z.mp3')\n",
    "output_dir = os.path.join('audio', 'segments','KATL-Twr-All-Feb-16-2024-1430Z')\n",
    "preprocess_and_save_segments(local_filename, output_dir)"
   ]
  },
  {
   "cell_type": "code",
   "execution_count": 23,
   "id": "bae3f036",
   "metadata": {},
   "outputs": [],
   "source": [
    "import requests\n",
    "\n",
    "def download_and_process(airport, target):\n",
    "    # airport katl\n",
    "    # target = KATL-Twr-10-28-Feb-12-2024-1400Z\n",
    "    # download_liveatc_audio('katl/KATL-Twr-10-28', datetime(2024, 2, 9), '0000Z')\n",
    "    url = f\"https://archive.liveatc.net/{airport}/{target}.mp3\"\n",
    "\n",
    "    local_filename = os.path.join('audio','raw',f'{target}.mp3')\n",
    "    with requests.get(url, stream=True) as r:\n",
    "        r.raise_for_status()\n",
    "        with open(local_filename, 'wb') as f:\n",
    "            for chunk in r.iter_content(chunk_size=8192): \n",
    "                f.write(chunk)\n",
    "    segment_dir = os.path.join('audio','segments', target)\n",
    "    os.makedirs(segment_dir)\n",
    "    return preprocess_and_save_segments(local_filename, segment_dir)"
   ]
  },
  {
   "cell_type": "code",
   "execution_count": 32,
   "id": "54e25f3a",
   "metadata": {},
   "outputs": [
    {
     "name": "stdout",
     "output_type": "stream",
     "text": [
      "KATL-Twr-All-Feb-16-2024-1300Z: 173\n",
      "KATL-Twr-All-Feb-16-2024-1330Z: 230\n",
      "KATL-Twr-All-Feb-16-2024-1400Z: 271\n"
     ]
    },
    {
     "name": "stderr",
     "output_type": "stream",
     "text": [
      "C:\\Users\\coste\\AppData\\Local\\Temp\\ipykernel_18968\\2800814798.py:20: UserWarning: PySoundFile failed. Trying audioread instead.\n",
      "  y, sr = librosa.load(file_path, sr=None)\n"
     ]
    },
    {
     "ename": "NoBackendError",
     "evalue": "",
     "output_type": "error",
     "traceback": [
      "\u001b[1;31m---------------------------------------------------------------------------\u001b[0m",
      "\u001b[1;31mLibsndfileError\u001b[0m                           Traceback (most recent call last)",
      "File \u001b[1;32mc:\\ProgramData\\Anaconda3\\envs\\gpu11\\Lib\\site-packages\\librosa\\core\\audio.py:175\u001b[0m, in \u001b[0;36mload\u001b[1;34m(path, sr, mono, offset, duration, dtype, res_type)\u001b[0m\n\u001b[0;32m    174\u001b[0m \u001b[38;5;28;01mtry\u001b[39;00m:\n\u001b[1;32m--> 175\u001b[0m     y, sr_native \u001b[38;5;241m=\u001b[39m __soundfile_load(path, offset, duration, dtype)\n\u001b[0;32m    177\u001b[0m \u001b[38;5;28;01mexcept\u001b[39;00m sf\u001b[38;5;241m.\u001b[39mSoundFileRuntimeError \u001b[38;5;28;01mas\u001b[39;00m exc:\n\u001b[0;32m    178\u001b[0m     \u001b[38;5;66;03m# If soundfile failed, try audioread instead\u001b[39;00m\n",
      "File \u001b[1;32mc:\\ProgramData\\Anaconda3\\envs\\gpu11\\Lib\\site-packages\\librosa\\core\\audio.py:221\u001b[0m, in \u001b[0;36m__soundfile_load\u001b[1;34m(path, offset, duration, dtype)\u001b[0m\n\u001b[0;32m    220\u001b[0m     \u001b[38;5;66;03m# Load the target number of frames, and transpose to match librosa form\u001b[39;00m\n\u001b[1;32m--> 221\u001b[0m     y \u001b[38;5;241m=\u001b[39m sf_desc\u001b[38;5;241m.\u001b[39mread(frames\u001b[38;5;241m=\u001b[39mframe_duration, dtype\u001b[38;5;241m=\u001b[39mdtype, always_2d\u001b[38;5;241m=\u001b[39m\u001b[38;5;28;01mFalse\u001b[39;00m)\u001b[38;5;241m.\u001b[39mT\n\u001b[0;32m    223\u001b[0m \u001b[38;5;28;01mreturn\u001b[39;00m y, sr_native\n",
      "File \u001b[1;32mc:\\ProgramData\\Anaconda3\\envs\\gpu11\\Lib\\site-packages\\soundfile.py:895\u001b[0m, in \u001b[0;36mSoundFile.read\u001b[1;34m(self, frames, dtype, always_2d, fill_value, out)\u001b[0m\n\u001b[0;32m    894\u001b[0m         frames \u001b[38;5;241m=\u001b[39m \u001b[38;5;28mlen\u001b[39m(out)\n\u001b[1;32m--> 895\u001b[0m frames \u001b[38;5;241m=\u001b[39m \u001b[38;5;28mself\u001b[39m\u001b[38;5;241m.\u001b[39m_array_io(\u001b[38;5;124m'\u001b[39m\u001b[38;5;124mread\u001b[39m\u001b[38;5;124m'\u001b[39m, out, frames)\n\u001b[0;32m    896\u001b[0m \u001b[38;5;28;01mif\u001b[39;00m \u001b[38;5;28mlen\u001b[39m(out) \u001b[38;5;241m>\u001b[39m frames:\n",
      "File \u001b[1;32mc:\\ProgramData\\Anaconda3\\envs\\gpu11\\Lib\\site-packages\\soundfile.py:1344\u001b[0m, in \u001b[0;36mSoundFile._array_io\u001b[1;34m(self, action, array, frames)\u001b[0m\n\u001b[0;32m   1343\u001b[0m cdata \u001b[38;5;241m=\u001b[39m _ffi\u001b[38;5;241m.\u001b[39mcast(ctype \u001b[38;5;241m+\u001b[39m \u001b[38;5;124m'\u001b[39m\u001b[38;5;124m*\u001b[39m\u001b[38;5;124m'\u001b[39m, array\u001b[38;5;241m.\u001b[39m__array_interface__[\u001b[38;5;124m'\u001b[39m\u001b[38;5;124mdata\u001b[39m\u001b[38;5;124m'\u001b[39m][\u001b[38;5;241m0\u001b[39m])\n\u001b[1;32m-> 1344\u001b[0m \u001b[38;5;28;01mreturn\u001b[39;00m \u001b[38;5;28mself\u001b[39m\u001b[38;5;241m.\u001b[39m_cdata_io(action, cdata, ctype, frames)\n",
      "File \u001b[1;32mc:\\ProgramData\\Anaconda3\\envs\\gpu11\\Lib\\site-packages\\soundfile.py:1354\u001b[0m, in \u001b[0;36mSoundFile._cdata_io\u001b[1;34m(self, action, data, ctype, frames)\u001b[0m\n\u001b[0;32m   1353\u001b[0m frames \u001b[38;5;241m=\u001b[39m func(\u001b[38;5;28mself\u001b[39m\u001b[38;5;241m.\u001b[39m_file, data, frames)\n\u001b[1;32m-> 1354\u001b[0m _error_check(\u001b[38;5;28mself\u001b[39m\u001b[38;5;241m.\u001b[39m_errorcode)\n\u001b[0;32m   1355\u001b[0m \u001b[38;5;28;01mif\u001b[39;00m \u001b[38;5;28mself\u001b[39m\u001b[38;5;241m.\u001b[39mseekable():\n",
      "File \u001b[1;32mc:\\ProgramData\\Anaconda3\\envs\\gpu11\\Lib\\site-packages\\soundfile.py:1407\u001b[0m, in \u001b[0;36m_error_check\u001b[1;34m(err, prefix)\u001b[0m\n\u001b[0;32m   1406\u001b[0m \u001b[38;5;28;01mif\u001b[39;00m err \u001b[38;5;241m!=\u001b[39m \u001b[38;5;241m0\u001b[39m:\n\u001b[1;32m-> 1407\u001b[0m     \u001b[38;5;28;01mraise\u001b[39;00m LibsndfileError(err, prefix\u001b[38;5;241m=\u001b[39mprefix)\n",
      "\u001b[1;31mLibsndfileError\u001b[0m: Unspecified internal error.",
      "\nDuring handling of the above exception, another exception occurred:\n",
      "\u001b[1;31mNoBackendError\u001b[0m                            Traceback (most recent call last)",
      "Cell \u001b[1;32mIn[32], line 4\u001b[0m\n\u001b[0;32m      2\u001b[0m targets \u001b[38;5;241m=\u001b[39m [\u001b[38;5;124mf\u001b[39m\u001b[38;5;124m'\u001b[39m\u001b[38;5;124mKATL-Twr-All-Feb-16-2024-\u001b[39m\u001b[38;5;132;01m{\u001b[39;00mhr\u001b[38;5;132;01m}\u001b[39;00m\u001b[38;5;132;01m{\u001b[39;00m\u001b[38;5;28mmin\u001b[39m\u001b[38;5;132;01m}\u001b[39;00m\u001b[38;5;124mZ\u001b[39m\u001b[38;5;124m'\u001b[39m \u001b[38;5;28;01mfor\u001b[39;00m hr \u001b[38;5;129;01min\u001b[39;00m \u001b[38;5;28mrange\u001b[39m(\u001b[38;5;241m13\u001b[39m, \u001b[38;5;241m15\u001b[39m) \u001b[38;5;28;01mfor\u001b[39;00m \u001b[38;5;28mmin\u001b[39m \u001b[38;5;129;01min\u001b[39;00m [\u001b[38;5;124m'\u001b[39m\u001b[38;5;124m00\u001b[39m\u001b[38;5;124m'\u001b[39m, \u001b[38;5;124m'\u001b[39m\u001b[38;5;124m30\u001b[39m\u001b[38;5;124m'\u001b[39m]]\n\u001b[0;32m      3\u001b[0m \u001b[38;5;28;01mfor\u001b[39;00m t \u001b[38;5;129;01min\u001b[39;00m targets:\n\u001b[1;32m----> 4\u001b[0m     n \u001b[38;5;241m=\u001b[39m download_and_process(\u001b[38;5;124m'\u001b[39m\u001b[38;5;124mkatl\u001b[39m\u001b[38;5;124m'\u001b[39m, t)\n\u001b[0;32m      5\u001b[0m     \u001b[38;5;28mprint\u001b[39m(\u001b[38;5;124mf\u001b[39m\u001b[38;5;124m'\u001b[39m\u001b[38;5;132;01m{\u001b[39;00mt\u001b[38;5;132;01m}\u001b[39;00m\u001b[38;5;124m: \u001b[39m\u001b[38;5;132;01m{\u001b[39;00mn\u001b[38;5;132;01m}\u001b[39;00m\u001b[38;5;124m'\u001b[39m)\n",
      "Cell \u001b[1;32mIn[23], line 17\u001b[0m, in \u001b[0;36mdownload_and_process\u001b[1;34m(airport, target)\u001b[0m\n\u001b[0;32m     15\u001b[0m segment_dir \u001b[38;5;241m=\u001b[39m os\u001b[38;5;241m.\u001b[39mpath\u001b[38;5;241m.\u001b[39mjoin(\u001b[38;5;124m'\u001b[39m\u001b[38;5;124maudio\u001b[39m\u001b[38;5;124m'\u001b[39m,\u001b[38;5;124m'\u001b[39m\u001b[38;5;124msegments\u001b[39m\u001b[38;5;124m'\u001b[39m, target)\n\u001b[0;32m     16\u001b[0m os\u001b[38;5;241m.\u001b[39mmakedirs(segment_dir)\n\u001b[1;32m---> 17\u001b[0m \u001b[38;5;28;01mreturn\u001b[39;00m preprocess_and_save_segments(local_filename, segment_dir)\n",
      "Cell \u001b[1;32mIn[20], line 20\u001b[0m, in \u001b[0;36mpreprocess_and_save_segments\u001b[1;34m(file_path, output_dir, silence_thresh, min_silence_len, keep_silence, min_segment_len)\u001b[0m\n\u001b[0;32m      6\u001b[0m \u001b[38;5;250m\u001b[39m\u001b[38;5;124;03m\"\"\"\u001b[39;00m\n\u001b[0;32m      7\u001b[0m \u001b[38;5;124;03mPreprocess raw audio recordings to remove silence and save non-silent segments\u001b[39;00m\n\u001b[0;32m      8\u001b[0m \u001b[38;5;124;03mthat meet the minimum length requirement as separate files.\u001b[39;00m\n\u001b[1;32m   (...)\u001b[0m\n\u001b[0;32m     16\u001b[0m \u001b[38;5;124;03mmin_segment_len (int): The minimum length (in ms) for a segment to be saved as a separate file.\u001b[39;00m\n\u001b[0;32m     17\u001b[0m \u001b[38;5;124;03m\"\"\"\u001b[39;00m\n\u001b[0;32m     19\u001b[0m \u001b[38;5;66;03m# Load the audio file\u001b[39;00m\n\u001b[1;32m---> 20\u001b[0m y, sr \u001b[38;5;241m=\u001b[39m librosa\u001b[38;5;241m.\u001b[39mload(file_path, sr\u001b[38;5;241m=\u001b[39m\u001b[38;5;28;01mNone\u001b[39;00m)\n\u001b[0;32m     22\u001b[0m \u001b[38;5;66;03m# Convert the NumPy array to a pydub AudioSegment\u001b[39;00m\n\u001b[0;32m     23\u001b[0m audio_segment \u001b[38;5;241m=\u001b[39m AudioSegment(\n\u001b[0;32m     24\u001b[0m     data\u001b[38;5;241m=\u001b[39mnp\u001b[38;5;241m.\u001b[39mint16(y \u001b[38;5;241m/\u001b[39m np\u001b[38;5;241m.\u001b[39mmax(np\u001b[38;5;241m.\u001b[39mabs(y)) \u001b[38;5;241m*\u001b[39m \u001b[38;5;241m32767\u001b[39m)\u001b[38;5;241m.\u001b[39mtobytes(),\n\u001b[0;32m     25\u001b[0m     sample_width\u001b[38;5;241m=\u001b[39m\u001b[38;5;241m2\u001b[39m,\n\u001b[0;32m     26\u001b[0m     frame_rate\u001b[38;5;241m=\u001b[39msr,\n\u001b[0;32m     27\u001b[0m     channels\u001b[38;5;241m=\u001b[39m\u001b[38;5;241m1\u001b[39m\n\u001b[0;32m     28\u001b[0m )\n",
      "File \u001b[1;32mc:\\ProgramData\\Anaconda3\\envs\\gpu11\\Lib\\site-packages\\librosa\\core\\audio.py:183\u001b[0m, in \u001b[0;36mload\u001b[1;34m(path, sr, mono, offset, duration, dtype, res_type)\u001b[0m\n\u001b[0;32m    179\u001b[0m \u001b[38;5;28;01mif\u001b[39;00m \u001b[38;5;28misinstance\u001b[39m(path, (\u001b[38;5;28mstr\u001b[39m, pathlib\u001b[38;5;241m.\u001b[39mPurePath)):\n\u001b[0;32m    180\u001b[0m     warnings\u001b[38;5;241m.\u001b[39mwarn(\n\u001b[0;32m    181\u001b[0m         \u001b[38;5;124m\"\u001b[39m\u001b[38;5;124mPySoundFile failed. Trying audioread instead.\u001b[39m\u001b[38;5;124m\"\u001b[39m, stacklevel\u001b[38;5;241m=\u001b[39m\u001b[38;5;241m2\u001b[39m\n\u001b[0;32m    182\u001b[0m     )\n\u001b[1;32m--> 183\u001b[0m     y, sr_native \u001b[38;5;241m=\u001b[39m __audioread_load(path, offset, duration, dtype)\n\u001b[0;32m    184\u001b[0m \u001b[38;5;28;01melse\u001b[39;00m:\n\u001b[0;32m    185\u001b[0m     \u001b[38;5;28;01mraise\u001b[39;00m exc\n",
      "File \u001b[1;32mc:\\ProgramData\\Anaconda3\\envs\\gpu11\\Lib\\site-packages\\decorator.py:232\u001b[0m, in \u001b[0;36mdecorate.<locals>.fun\u001b[1;34m(*args, **kw)\u001b[0m\n\u001b[0;32m    230\u001b[0m \u001b[38;5;28;01mif\u001b[39;00m \u001b[38;5;129;01mnot\u001b[39;00m kwsyntax:\n\u001b[0;32m    231\u001b[0m     args, kw \u001b[38;5;241m=\u001b[39m fix(args, kw, sig)\n\u001b[1;32m--> 232\u001b[0m \u001b[38;5;28;01mreturn\u001b[39;00m caller(func, \u001b[38;5;241m*\u001b[39m(extras \u001b[38;5;241m+\u001b[39m args), \u001b[38;5;241m*\u001b[39m\u001b[38;5;241m*\u001b[39mkw)\n",
      "File \u001b[1;32mc:\\ProgramData\\Anaconda3\\envs\\gpu11\\Lib\\site-packages\\librosa\\util\\decorators.py:59\u001b[0m, in \u001b[0;36mdeprecated.<locals>.__wrapper\u001b[1;34m(func, *args, **kwargs)\u001b[0m\n\u001b[0;32m     50\u001b[0m \u001b[38;5;250m\u001b[39m\u001b[38;5;124;03m\"\"\"Warn the user, and then proceed.\"\"\"\u001b[39;00m\n\u001b[0;32m     51\u001b[0m warnings\u001b[38;5;241m.\u001b[39mwarn(\n\u001b[0;32m     52\u001b[0m     \u001b[38;5;124m\"\u001b[39m\u001b[38;5;132;01m{:s}\u001b[39;00m\u001b[38;5;124m.\u001b[39m\u001b[38;5;132;01m{:s}\u001b[39;00m\u001b[38;5;130;01m\\n\u001b[39;00m\u001b[38;5;130;01m\\t\u001b[39;00m\u001b[38;5;124mDeprecated as of librosa version \u001b[39m\u001b[38;5;132;01m{:s}\u001b[39;00m\u001b[38;5;124m.\u001b[39m\u001b[38;5;124m\"\u001b[39m\n\u001b[0;32m     53\u001b[0m     \u001b[38;5;124m\"\u001b[39m\u001b[38;5;130;01m\\n\u001b[39;00m\u001b[38;5;130;01m\\t\u001b[39;00m\u001b[38;5;124mIt will be removed in librosa version \u001b[39m\u001b[38;5;132;01m{:s}\u001b[39;00m\u001b[38;5;124m.\u001b[39m\u001b[38;5;124m\"\u001b[39m\u001b[38;5;241m.\u001b[39mformat(\n\u001b[1;32m   (...)\u001b[0m\n\u001b[0;32m     57\u001b[0m     stacklevel\u001b[38;5;241m=\u001b[39m\u001b[38;5;241m3\u001b[39m,  \u001b[38;5;66;03m# Would be 2, but the decorator adds a level\u001b[39;00m\n\u001b[0;32m     58\u001b[0m )\n\u001b[1;32m---> 59\u001b[0m \u001b[38;5;28;01mreturn\u001b[39;00m func(\u001b[38;5;241m*\u001b[39margs, \u001b[38;5;241m*\u001b[39m\u001b[38;5;241m*\u001b[39mkwargs)\n",
      "File \u001b[1;32mc:\\ProgramData\\Anaconda3\\envs\\gpu11\\Lib\\site-packages\\librosa\\core\\audio.py:239\u001b[0m, in \u001b[0;36m__audioread_load\u001b[1;34m(path, offset, duration, dtype)\u001b[0m\n\u001b[0;32m    236\u001b[0m     reader \u001b[38;5;241m=\u001b[39m path\n\u001b[0;32m    237\u001b[0m \u001b[38;5;28;01melse\u001b[39;00m:\n\u001b[0;32m    238\u001b[0m     \u001b[38;5;66;03m# If the input was not an audioread object, try to open it\u001b[39;00m\n\u001b[1;32m--> 239\u001b[0m     reader \u001b[38;5;241m=\u001b[39m audioread\u001b[38;5;241m.\u001b[39maudio_open(path)\n\u001b[0;32m    241\u001b[0m \u001b[38;5;28;01mwith\u001b[39;00m reader \u001b[38;5;28;01mas\u001b[39;00m input_file:\n\u001b[0;32m    242\u001b[0m     sr_native \u001b[38;5;241m=\u001b[39m input_file\u001b[38;5;241m.\u001b[39msamplerate\n",
      "File \u001b[1;32mc:\\ProgramData\\Anaconda3\\envs\\gpu11\\Lib\\site-packages\\audioread\\__init__.py:132\u001b[0m, in \u001b[0;36maudio_open\u001b[1;34m(path, backends)\u001b[0m\n\u001b[0;32m    129\u001b[0m         \u001b[38;5;28;01mpass\u001b[39;00m\n\u001b[0;32m    131\u001b[0m \u001b[38;5;66;03m# All backends failed!\u001b[39;00m\n\u001b[1;32m--> 132\u001b[0m \u001b[38;5;28;01mraise\u001b[39;00m NoBackendError()\n",
      "\u001b[1;31mNoBackendError\u001b[0m: "
     ]
    }
   ],
   "source": [
    "# download_and_process('katl', 'KATL-Twr-10-28-Feb-16-2024-1400Z')\n",
    "targets = [f'KATL-Twr-All-Feb-16-2024-{hr}{min}Z' for hr in range(13, 15) for min in ['00', '30']]\n",
    "for t in targets:\n",
    "    n = download_and_process('katl', t)\n",
    "    print(f'{t}: {n}')"
   ]
  },
  {
   "cell_type": "code",
   "execution_count": 48,
   "id": "0ee54650",
   "metadata": {},
   "outputs": [
    {
     "name": "stdout",
     "output_type": "stream",
     "text": [
      "1166\n"
     ]
    }
   ],
   "source": [
    "import pathlib\n",
    "path = pathlib.Path(os.path.join('audio','segments'))\n",
    "files = [f for f in path.rglob('*.wav')]\n",
    "print(len(files))\n",
    "files[0]\n",
    "audio, _ = librosa.load(files[0], sr=None)"
   ]
  }
 ],
 "metadata": {
  "kernelspec": {
   "display_name": "Python 3 (ipykernel)",
   "language": "python",
   "name": "python3"
  },
  "language_info": {
   "codemirror_mode": {
    "name": "ipython",
    "version": 3
   },
   "file_extension": ".py",
   "mimetype": "text/x-python",
   "name": "python",
   "nbconvert_exporter": "python",
   "pygments_lexer": "ipython3",
   "version": "3.11.7"
  }
 },
 "nbformat": 4,
 "nbformat_minor": 5
}
